{
 "cells": [
  {
   "cell_type": "code",
   "execution_count": null,
   "id": "0f1a2de6",
   "metadata": {},
   "outputs": [],
   "source": [
    "# Find the pairs of indexes which is giving Target Sum\n",
    "# Assumotions: Samepair is neglected,List is having Positive numbers"
   ]
  },
  {
   "cell_type": "code",
   "execution_count": 1,
   "id": "649fb977",
   "metadata": {},
   "outputs": [],
   "source": [
    "List=[1,2,4,7,9]"
   ]
  },
  {
   "cell_type": "code",
   "execution_count": 2,
   "id": "1310a0b4",
   "metadata": {},
   "outputs": [],
   "source": [
    "def findpairs(list,target):\n",
    "    for i in range(len(list)):\n",
    "        for j in range(i+1,len(list)):\n",
    "            if list[i]==list[j]:\n",
    "                continue\n",
    "            elif list[i]+list[j]==target:\n",
    "                print(i,j)"
   ]
  },
  {
   "cell_type": "code",
   "execution_count": 3,
   "id": "13eda018",
   "metadata": {},
   "outputs": [],
   "source": [
    "list=[1,2,3,4,5,6,3]"
   ]
  },
  {
   "cell_type": "code",
   "execution_count": 4,
   "id": "49fd5df9",
   "metadata": {},
   "outputs": [
    {
     "name": "stdout",
     "output_type": "stream",
     "text": [
      "0 4\n",
      "1 3\n"
     ]
    }
   ],
   "source": [
    "findpairs(list,6)"
   ]
  },
  {
   "cell_type": "code",
   "execution_count": null,
   "id": "e3fed39a",
   "metadata": {},
   "outputs": [],
   "source": []
  }
 ],
 "metadata": {
  "kernelspec": {
   "display_name": "Python 3 (ipykernel)",
   "language": "python",
   "name": "python3"
  },
  "language_info": {
   "codemirror_mode": {
    "name": "ipython",
    "version": 3
   },
   "file_extension": ".py",
   "mimetype": "text/x-python",
   "name": "python",
   "nbconvert_exporter": "python",
   "pygments_lexer": "ipython3",
   "version": "3.9.7"
  }
 },
 "nbformat": 4,
 "nbformat_minor": 5
}
