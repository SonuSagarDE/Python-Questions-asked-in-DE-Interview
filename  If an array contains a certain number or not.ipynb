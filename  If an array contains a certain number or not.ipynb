{
 "cells": [
  {
   "cell_type": "code",
   "execution_count": 1,
   "id": "3d0cc75f",
   "metadata": {},
   "outputs": [],
   "source": [
    "# If an array contains a certain number or not"
   ]
  },
  {
   "cell_type": "code",
   "execution_count": 8,
   "id": "e2b5c4ec",
   "metadata": {},
   "outputs": [],
   "source": [
    "import numpy as np\n",
    "MyArray=np.array([1,20,44,79,8,9,10,21,13,12,15])"
   ]
  },
  {
   "cell_type": "code",
   "execution_count": 13,
   "id": "f0eef47a",
   "metadata": {},
   "outputs": [],
   "source": [
    "def ifNumPresent(input_array,target_num):\n",
    "    for i in range(len(input_array)):\n",
    "        if input_array[i]==target_num:\n",
    "            print(\"Number is present\")           "
   ]
  },
  {
   "cell_type": "code",
   "execution_count": 15,
   "id": "ef7b678b",
   "metadata": {},
   "outputs": [
    {
     "name": "stdout",
     "output_type": "stream",
     "text": [
      "Number is present\n"
     ]
    }
   ],
   "source": [
    "ifNumPresent(MyArray,21)"
   ]
  },
  {
   "cell_type": "code",
   "execution_count": null,
   "id": "a248a713",
   "metadata": {},
   "outputs": [],
   "source": []
  }
 ],
 "metadata": {
  "kernelspec": {
   "display_name": "Python 3 (ipykernel)",
   "language": "python",
   "name": "python3"
  },
  "language_info": {
   "codemirror_mode": {
    "name": "ipython",
    "version": 3
   },
   "file_extension": ".py",
   "mimetype": "text/x-python",
   "name": "python",
   "nbconvert_exporter": "python",
   "pygments_lexer": "ipython3",
   "version": "3.9.7"
  }
 },
 "nbformat": 4,
 "nbformat_minor": 5
}
