{
 "cells": [
  {
   "cell_type": "code",
   "execution_count": null,
   "id": "bc6fb71d",
   "metadata": {},
   "outputs": [],
   "source": [
    "##Primary conditions for password validation:\n",
    "\n",
    "##Minimum 8 characters.\n",
    "##The alphabet must be between [a-z]\n",
    "##At least one alphabet should be of Upper Case [A-Z]\n",
    "##At least 1 number or digit between [0-9].\n",
    "##At least 1 character from [ _ or @ or $ ]."
   ]
  },
  {
   "cell_type": "code",
   "execution_count": null,
   "id": "cf359304",
   "metadata": {},
   "outputs": [],
   "source": [
    "##Input : R@m@_f0rtu9e$\n",
    "##Output : Valid Password"
   ]
  }
 ],
 "metadata": {
  "kernelspec": {
   "display_name": "Python 3 (ipykernel)",
   "language": "python",
   "name": "python3"
  },
  "language_info": {
   "codemirror_mode": {
    "name": "ipython",
    "version": 3
   },
   "file_extension": ".py",
   "mimetype": "text/x-python",
   "name": "python",
   "nbconvert_exporter": "python",
   "pygments_lexer": "ipython3",
   "version": "3.9.12"
  }
 },
 "nbformat": 4,
 "nbformat_minor": 5
}
